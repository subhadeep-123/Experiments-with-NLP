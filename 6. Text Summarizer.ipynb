{
 "cells": [
  {
   "cell_type": "code",
   "execution_count": 35,
   "metadata": {},
   "outputs": [],
   "source": [
    "# Importing the libraries\n",
    "import re\n",
    "import bs4\n",
    "import urllib.request\n",
    "import nltk\n",
    "import heapq\n",
    "import numpy as np"
   ]
  },
  {
   "cell_type": "code",
   "execution_count": 3,
   "metadata": {},
   "outputs": [],
   "source": [
    "#Getting the data source\n",
    "link = 'https://en.wikipedia.org/wiki/The_Fault_in_Our_Stars'\n",
    "source = urllib.request.urlopen(link).read()"
   ]
  },
  {
   "cell_type": "code",
   "execution_count": 6,
   "metadata": {},
   "outputs": [],
   "source": [
    "# Parsing the data/ creating BeautifulSoup object\n",
    "# it makes it more good in form\n",
    "soup = bs4.BeautifulSoup(source, 'lxml')"
   ]
  },
  {
   "cell_type": "code",
   "execution_count": 23,
   "metadata": {
    "collapsed": true
   },
   "outputs": [
    {
     "data": {
      "text/plain": [
       "[<meta charset=\"utf-8\"/>,\n",
       " <title>The Fault in Our Stars - Wikipedia</title>,\n",
       " <script>document.documentElement.className=document.documentElement.className.replace(/(^|\\s)client-nojs(\\s|$)/,\"$1client-js$2\");RLCONF={\"wgCanonicalNamespace\":\"\",\"wgCanonicalSpecialPageName\":!1,\"wgNamespaceNumber\":0,\"wgPageName\":\"The_Fault_in_Our_Stars\",\"wgTitle\":\"The Fault in Our Stars\",\"wgCurRevisionId\":902846109,\"wgRevisionId\":902846109,\"wgArticleId\":32262844,\"wgIsArticle\":!0,\"wgIsRedirect\":!1,\"wgAction\":\"view\",\"wgUserName\":null,\"wgUserGroups\":[\"*\"],\"wgCategories\":[\"CS1 maint: Uses authors parameter\",\"Articles with short description\",\"Portal templates with redlinked portals\",\"2012 American novels\",\"Novels about cancer\",\"American young adult novels\",\"American romance novels\",\"Novels set in Amsterdam\",\"Novels set in Indianapolis\",\"American novels adapted into films\",\"Novels by John Green\",\"Books with cover art by Rodrigo Corral\",\"Books relating to Anne Frank\",\"Fictional American people of English descent\",\"Fictional Dutch people\"],\"wgBreakFrames\":!1,\"wgPageContentLanguage\":\"en\",\n",
       " \"wgPageContentModel\":\"wikitext\",\"wgSeparatorTransformTable\":[\"\",\"\"],\"wgDigitTransformTable\":[\"\",\"\"],\"wgDefaultDateFormat\":\"dmy\",\"wgMonthNames\":[\"\",\"January\",\"February\",\"March\",\"April\",\"May\",\"June\",\"July\",\"August\",\"September\",\"October\",\"November\",\"December\"],\"wgMonthNamesShort\":[\"\",\"Jan\",\"Feb\",\"Mar\",\"Apr\",\"May\",\"Jun\",\"Jul\",\"Aug\",\"Sep\",\"Oct\",\"Nov\",\"Dec\"],\"wgRelevantPageName\":\"The_Fault_in_Our_Stars\",\"wgRelevantArticleId\":32262844,\"wgRequestId\":\"XQ0ViApAICIAADN18VgAAAAY\",\"wgCSPNonce\":!1,\"wgIsProbablyEditable\":!0,\"wgRelevantPageIsProbablyEditable\":!0,\"wgRestrictionEdit\":[],\"wgRestrictionMove\":[],\"wgMediaViewerOnClick\":!0,\"wgMediaViewerEnabledByDefault\":!0,\"wgPopupsReferencePreviews\":!1,\"wgPopupsConflictsWithNavPopupGadget\":!1,\"wgVisualEditor\":{\"pageLanguageCode\":\"en\",\"pageLanguageDir\":\"ltr\",\"pageVariantFallbacks\":\"en\"},\"wgMFDisplayWikibaseDescriptions\":{\"search\":!0,\"nearby\":!0,\"watchlist\":!0,\"tagline\":!1},\"wgWMESchemaEditAttemptStepOversample\":!1,\n",
       " \"wgPoweredByHHVM\":!0,\"wgULSCurrentAutonym\":\"English\",\"wgNoticeProject\":\"wikipedia\",\"wgCentralNoticeCategoriesUsingLegacy\":[\"Fundraising\",\"fundraising\"],\"wgWikibaseItemId\":\"Q658375\",\"wgCentralAuthMobileDomain\":!1,\"wgEditSubmitButtonLabelPublish\":!0};RLSTATE={\"ext.gadget.charinsert-styles\":\"ready\",\"ext.globalCssJs.user.styles\":\"ready\",\"ext.globalCssJs.site.styles\":\"ready\",\"site.styles\":\"ready\",\"noscript\":\"ready\",\"user.styles\":\"ready\",\"ext.globalCssJs.user\":\"ready\",\"ext.globalCssJs.site\":\"ready\",\"user\":\"ready\",\"user.options\":\"ready\",\"user.tokens\":\"loading\",\"ext.cite.styles\":\"ready\",\"mediawiki.legacy.shared\":\"ready\",\"mediawiki.legacy.commonPrint\":\"ready\",\"mediawiki.toc.styles\":\"ready\",\"wikibase.client.init\":\"ready\",\"ext.visualEditor.desktopArticleTarget.noscript\":\"ready\",\"ext.uls.interlanguage\":\"ready\",\"ext.wikimediaBadges\":\"ready\",\"ext.3d.styles\":\"ready\",\"mediawiki.skinning.interface\":\"ready\",\"skins.vector.styles\":\"ready\"};RLPAGEMODULES=[\"ext.cite.ux-enhancements\",\"site\",\n",
       " \"mediawiki.page.startup\",\"mediawiki.page.ready\",\"mediawiki.toc\",\"mediawiki.searchSuggest\",\"ext.gadget.teahouse\",\"ext.gadget.ReferenceTooltips\",\"ext.gadget.watchlist-notice\",\"ext.gadget.DRN-wizard\",\"ext.gadget.charinsert\",\"ext.gadget.refToolbar\",\"ext.gadget.extra-toolbar-buttons\",\"ext.gadget.switcher\",\"ext.centralauth.centralautologin\",\"mmv.head\",\"mmv.bootstrap.autostart\",\"ext.popups\",\"ext.visualEditor.desktopArticleTarget.init\",\"ext.visualEditor.targetLoader\",\"ext.eventLogging\",\"ext.wikimediaEvents\",\"ext.navigationTiming\",\"ext.uls.compactlinks\",\"ext.uls.interface\",\"ext.quicksurveys.init\",\"ext.centralNotice.geoIP\",\"ext.centralNotice.startUp\",\"skins.vector.js\"];</script>,\n",
       " <script>(RLQ=window.RLQ||[]).push(function(){mw.loader.implement(\"user.tokens@0tffind\",function($,jQuery,require,module){/*@nomin*/mw.user.tokens.set({\"editToken\":\"+\\\\\",\"patrolToken\":\"+\\\\\",\"watchToken\":\"+\\\\\",\"csrfToken\":\"+\\\\\"});\n",
       " });});</script>,\n",
       " <link href=\"/w/load.php?lang=en&amp;modules=ext.3d.styles%7Cext.cite.styles%7Cext.uls.interlanguage%7Cext.visualEditor.desktopArticleTarget.noscript%7Cext.wikimediaBadges%7Cmediawiki.legacy.commonPrint%2Cshared%7Cmediawiki.skinning.interface%7Cmediawiki.toc.styles%7Cskins.vector.styles%7Cwikibase.client.init&amp;only=styles&amp;skin=vector\" rel=\"stylesheet\"/>,\n",
       " <script async=\"\" src=\"/w/load.php?lang=en&amp;modules=startup&amp;only=scripts&amp;skin=vector\"></script>,\n",
       " <meta content=\"\" name=\"ResourceLoaderDynamicStyles\"/>,\n",
       " <link href=\"/w/load.php?lang=en&amp;modules=ext.gadget.charinsert-styles&amp;only=styles&amp;skin=vector\" rel=\"stylesheet\"/>,\n",
       " <link href=\"/w/load.php?lang=en&amp;modules=site.styles&amp;only=styles&amp;skin=vector\" rel=\"stylesheet\"/>,\n",
       " <meta content=\"MediaWiki 1.34.0-wmf.8\" name=\"generator\"/>,\n",
       " <meta content=\"origin\" name=\"referrer\"/>,\n",
       " <meta content=\"origin-when-crossorigin\" name=\"referrer\"/>,\n",
       " <meta content=\"origin-when-cross-origin\" name=\"referrer\"/>,\n",
       " <meta content=\"https://upload.wikimedia.org/wikipedia/en/a/a9/The_Fault_in_Our_Stars.jpg\" property=\"og:image\"/>,\n",
       " <link href=\"android-app://org.wikipedia/http/en.m.wikipedia.org/wiki/The_Fault_in_Our_Stars\" rel=\"alternate\"/>,\n",
       " <link href=\"/w/index.php?title=The_Fault_in_Our_Stars&amp;action=edit\" rel=\"alternate\" title=\"Edit this page\" type=\"application/x-wiki\"/>,\n",
       " <link href=\"/w/index.php?title=The_Fault_in_Our_Stars&amp;action=edit\" rel=\"edit\" title=\"Edit this page\"/>,\n",
       " <link href=\"/static/apple-touch/wikipedia.png\" rel=\"apple-touch-icon\"/>,\n",
       " <link href=\"/static/favicon/wikipedia.ico\" rel=\"shortcut icon\"/>,\n",
       " <link href=\"/w/opensearch_desc.php\" rel=\"search\" title=\"Wikipedia (en)\" type=\"application/opensearchdescription+xml\"/>,\n",
       " <link href=\"//en.wikipedia.org/w/api.php?action=rsd\" rel=\"EditURI\" type=\"application/rsd+xml\"/>,\n",
       " <link href=\"//creativecommons.org/licenses/by-sa/3.0/\" rel=\"license\"/>,\n",
       " <link href=\"https://en.wikipedia.org/wiki/The_Fault_in_Our_Stars\" rel=\"canonical\"/>,\n",
       " <link href=\"//login.wikimedia.org\" rel=\"dns-prefetch\"/>,\n",
       " <link href=\"//meta.wikimedia.org\" rel=\"dns-prefetch\"/>]"
      ]
     },
     "execution_count": 23,
     "metadata": {},
     "output_type": "execute_result"
    }
   ],
   "source": [
    "soup.head()"
   ]
  },
  {
   "cell_type": "code",
   "execution_count": 9,
   "metadata": {},
   "outputs": [],
   "source": [
    "#In most wikepidea Articles All content Text are written in the <p> tag\n",
    "#Fetching The data that are in the <p>------</p>\n",
    "text = \" \"\n",
    "for paragraph in soup.find_all('p'):\n",
    "    text += paragraph.text"
   ]
  },
  {
   "cell_type": "code",
   "execution_count": 16,
   "metadata": {
    "collapsed": true
   },
   "outputs": [
    {
     "data": {
      "text/plain": [
       "'The Fault in Our Stars, published in January 2012, is the sixth novel by author John Green. The title is inspired by Act 1, Scene 2 of Shakespeare\\'s play Julius Caesar, in which the nobleman Cassius says to Brutus: \"The fault, dear Brutus, is not in our stars, / But in ourselves, that we are underlings.\" The story is narrated by Hazel Grace Lancaster, a 16-year-old girl with thyroid cancer that has affected her lungs. Hazel is forced by her parents to attend a support group where she subsequently meets and falls in love with 17-year-old Augustus Waters, an ex-basketball player and amputee. A feature film adaptation of the novel directed by Josh Boone and starring Shailene Woodley, Ansel Elgort and Nat Wolff was released on June 6, 2014.[1] Both the book and its film adaptation were met with strong critical and commercial success.\\nHazel Grace Lancaster, a 16-year-old with thyroid cancer that has spread to her lungs, attends a cancer patient support group at her mother\\'s behest. At one meeting, Hazel meets a 17-year-old boy currently in remission named Augustus Waters, whose osteosarcoma caused him to lose his right leg. Augustus is at the meeting to support Isaac, his friend who has eye cancer. They meet after the support group and begin to talk. When everything seems to be going well, Augustus pulls out a cigarette and puts it between his lips. Hazel is disgusted by this and yells at him saying that he\\'s already got cancer and he wants to pay money for more cancer. Augustus explains that he does not actually light the cigarette. He says, \"You put an object of death right between your lips, but you don\\'t give it the power to kill you.\" Hazel, impressed by this, goes to his house to watch a movie. Hazel and Augustus strike a bond immediately and agree to read each other\\'s favorite novels. Augustus gives Hazel The Price of Dawn, and Hazel recommends An Imperial Affliction, a novel written by Peter Van Houten, who lives in Amsterdam, about a cancer-stricken girl named Anna that parallels Hazel\\'s own experience. After Augustus finishes reading her book, he is frustrated upon learning that the novel ends abruptly without a conclusion. The novel ends in the middle of a sentence, which means she either died or became too sick to continue telling the story. Hazel explains the novel\\'s author had retreated following the novel\\'s publication and has not been heard from since.\\nA week later, Augustus reveals to Hazel that he has tracked down Van Houten\\'s assistant, Lidewij, and, through her, has managed to start an e-mail correspondence with Van Houten. The two write to Van Houten with questions regarding the novel\\'s ending and the fate of the mother of Anna. Van Houten eventually replies, explaining that he can only answer Hazel\\'s questions in person. At a picnic, Augustus surprises Hazel with tickets to Amsterdam to meet Van Houten.\\nWhile on the plane to Amsterdam, Augustus confesses his love for Hazel. Hazel and Augustus finally meet Van Houten but are shocked to find that he is a mean-spirited drunk. Horrified by Van Houten\\'s behavior, Lidewij confesses to having arranged the meeting on his behalf, angering Van Houten, who proceeds to insult Hazel\\'s cancer, starting an argument and causing Hazel and Augustus to flee from his home. Lidewij resigns as Van Houten\\'s assistant and takes Hazel and Augustus to go to the Anne Frank House, where Augustus and Hazel share their first kiss. Hazel and Augustus go out for a fancy dinner while in Amsterdam where they drink champagne and \"Taste the stars.\" Later that night Hazel and Augustus have sex in Augustus\\'s hotel room, the first time for both of them. During their intimacy, Hazel tells Augustus she loves him.\\nAugustus confesses to Hazel that his cancer has returned. The two affirm their love and support for one another. Upon their return to Indianapolis, Augustus\\'s health worsens and he ends up in the ICU for a few days. Fearing his death, Augustus invites Isaac and Hazel to his pre-funeral, where they give eulogies. Augustus dies soon after, leaving Hazel heartbroken. Van Houten shows up at Augustus\\'s funeral to apologize to Hazel, but Hazel does not forgive him.\\nHazel learns that Augustus was not writing a sequel to An Imperial Affliction like he told her, but an obituary for her, and reads it after Lidewij discovers it amidst Van Houten’s letters. It states that getting hurt in this world is unavoidable, but we do get to choose whom we allow to hurt us, and that he is happy with his choice, and hopes she likes hers too. The book closes with Hazel stating that she is happy with her choice.\\nOn December 21, 2011, Barnes & Noble accidentally shipped 1,500 copies of The Fault in Our Stars before the release date to people who had pre-ordered the book. Green released a statement saying, \"Mistakes happen. The people who made this error were not bad or incompetent people, and they were not acting maliciously. We all make mistakes, and it is not my wish to see Barnes and Noble or any of their employees vilified.\"[2] Many people who received the book pledged not to read it until its release date, January 10, 2012, or discuss it until the next day, January 11, as per a request of Green\\'s not to spoil it for other readers. Most kept to this promise, leaving the experience untarnished for those who got the book on the intended release date.[3]\\nThe book rose to #84 on the Amazon.com and Barnes & Noble bestseller lists in June 2011 shortly after its title was announced.[4] Green promised that every pre-order would be hand-signed by him, requiring him to sign every copy of the first printing. He proposed that the general public vote on the color Sharpie he would use to sign the books, resulting in him signing the 150,000 books with a variety of Sharpie colors, each in proportion to the number of votes received for that color.[5] However, some people who ordered from international booksellers received unsigned copies because those bookstores, including Amazon UK, underestimated how many books they needed and ordered more after the signing was complete, but Green agreed to fix this problem, telling people with unsigned pre-orders to email him so they could be sent a signed bookplate.[6] Many fans submitted their book cover designs to various outlets including Tumblr and Twitter, tagging Green in these posts so he could see them. The sizeable number of posts received prompted Green\\'s publisher Penguin to seek a fan-designed cover for a reprint of one of Green\\'s other books, An Abundance of Katherines.[7] The Fault in Our Stars debuted at #1 on The New York Times Best Seller list for Children\\'s Chapter Books[8] and remained in that spot for seven consecutive weeks.[9] A Hebrew edition of The Fault in Our Stars was published in Israel in August 2012 and more editions of the novel are forthcoming in Dutch, German, Spanish, French, Swedish, Danish, Icelandic, Chinese, Persian and Portuguese. The Fault in Our Stars has also gained places on several bestseller lists. It was #1 on The Wall Street Journal bestseller list, #1 on the Indiebound bestseller list, and #9 on The Bookseller bestseller list. The novel was also The New York Times Book Review Editor\\'s Choice.[10] As of January 2013, there are nearly 1 million copies of the novel in print.[11] In December 2012, it was announced that a special edition with a silver cover and an expanded Q&A, dubbed the \\'Exclusive Collector\\'s Edition\\', would be available from Barnes & Noble. All or at least most of the copies first available for purchase of this edition of the book contained a printing error wherein several pages of the first chapter were replaced with pages from the Q&A section at the back of the book.[12]\\nThe Fault in Our Stars received critical acclaim. Critics mostly praised the book for its humor, strong characters, language, themes and new perspective on cancer and romance. The New York Times\\' review of the book called it \"a blend of melancholy, sweet, philosophical and funny\" and said that it \"stays the course of tragic realism\", while noting that the book\\'s unpleasant plot details \"do nothing to diminish the romance; in Green\\'s hands, they only make it more moving.\"[13] NPR\\'s Rachel Syme noted that \"[Green\\'s] voice is so compulsively readable that it defies categorization,\" saying that the \"elegantly plotted\" book \"may be his best.\"  [14] Time called The Fault in Our Stars \"damn near genius.\"[15] Entertainment Weekly wrote, \"[Augustus and Hazel\\'s] love story is as real as it is doomed, and the gut-busting laughs that come early in the novel make the luminous final pages all the more heartbreaking\", and gave the novel an overall A− grade.[16] Amazon.com calls it \"insightful, bold, irreverent, and raw\" and Green\\'s \"most ambitious and heartbreaking work yet.\"[17] The Manila Bulletin says that the book is \"a collection of maudlin scenes and trite observations about the fragility of life and the wisdom of dying. And while it does talk about those things and more, the treatment of it is far from being maudlin or trite.\"[18] The Manila Bulletin also added that \"Just two paragraphs into the work, and he immediately wallops the readers with such an insightful observation delivered in such an unsentimental way that its hard not to shake your head in admiration.\"[18] The Manila Bulletin stated that The Fault in Our Stars was a triumph for John Green.[18] USA Today called it a \"elegiac comedy.\"[19] They gave the book a rating of four out of four stars.[19]The School Library Journal stated that it was \"a strong choice for Adult Collections.\"[20] The Fault in Our Stars received a starred review from Kirkus Reviews, who described it as \"a smartly crafted intellectual explosion of a romance.\"[21]\\nSeveral well-known authors have contributed their own positive reviews for the book. Jodi Picoult, author of My Sister\\'s Keeper, calls The Fault in Our Stars \"an electric portrait of young people who learn to live life with one foot in the grave.\" She goes on to say that the novel is \"filled with staccato bursts of humor and tragedy.\" Bestselling author of The Book Thief, Markus Zusak, describes it as \"a novel of life and death and the people caught in between\" and \"John Green at his best\". Pertaining to Green\\'s writing throughout the book, E. Lockhart, author of The Boyfriend List, says \"He makes me laugh and gasp at the beauty of a sentence or the twist of a tale. He is one of the best writers alive and I am seething with envy of his talent.\"[17] Time named The Fault in Our Stars as the #1 fiction book of 2012.[22] Kirkus Reviews listed it among the top 100 children\\'s books of 2012.[23] It also made USA Today\\'s list of the top 10 books of 2012.[24] In 2013, the Edmonton Journal named the book one of their \"favourite books of the year.\"[25]\\nOne notable unfavorable opinion appeared in the Daily Mail.[26] In the piece, the plot of The Fault in Our Stars was described as \"mawkish at best, exploitative at worst\" and the book was characterized as belonging to the \"sick-lit\" young adult genre, together with other young-adult novels such as Never Eighteen and Before I Die. This entire genre, as well as the genre of young-adult novels dealing with suicide and self-harm (the piece mentions Thirteen Reasons Why, By the Time You Read This, I\\'ll Be Dead,  The Lovely Bones, and Red Tears) was criticized as being \"distasteful\" and inappropriate for their target audience of teens.[27] The Guardian criticized the piece, pointing out in particular that The Fault in Our Stars was chosen by The Guardian as that month\\'s \"teen book club choice\" because \"it\\'s a gripping read, featuring two compelling characters, that deals sensitively and even humorously with a difficult situation without descending into mawkishness.\" In general, The Guardian faulted the Daily Mail for suggesting that the issues of illness, depression, and sexuality are inappropriate precisely \"in the one place where difficult subjects have traditionally been most sensitively explored for teens: fiction written specifically for them.\"[27] For his part, in an interview for The Guardian, John Green said: \"The thing that bothered me about The Daily Mail piece was that it was a bit condescending to teenagers. I\\'m tired of adults telling teenagers that they aren\\'t smart, that they can\\'t read critically, that they aren\\'t thoughtful, and I feel like that article made those arguments.\"[28]\\nIn January 2012, Fox 2000 Pictures optioned the rights to adapt the novel into a feature film.[1] Scott Neustadter, Michael H. Weber and Josh Boone wrote the adapted screenplay, with Josh Boone also serving as director.[29] Shailene Woodley stars as Hazel, while Ansel Elgort plays Augustus.[30]\\nPrincipal photography took place between August and October of 2013, with Pittsburgh, Pennsylvania doubling for the novel\\'s setting of Indianapolis, and included some location shooting in Amsterdam.[29] The film was released on June 6, 2014, in the United States,[31] receiving positive reviews and grossing over $307 million worldwide against its budget of $12 million.[32][33]\\nIn August 2014, India\\'s Fox Star Studios announced it would adapt the novel into an Indian Hindi-language film, with the working title of Kizie Aur Manny.[34] Filming did not begin until July 2018, in Jamshedpur,[35] with first-time director Mukesh Chhabra guiding lead actor Sushant Singh Rajput and lead actress Sanjana Sanghi (in her film debut).[36]\\nThe film is scheduled to be released in November 2019, under the finalized title Dil Bechara (Helpless Heart), named for one of the songs written for the movie, which the director felt perfectly summed up the message of the film.[37]\\n'"
      ]
     },
     "execution_count": 16,
     "metadata": {},
     "output_type": "execute_result"
    }
   ],
   "source": [
    "text"
   ]
  },
  {
   "cell_type": "markdown",
   "metadata": {},
   "source": [
    "# Cleaning The data"
   ]
  },
  {
   "cell_type": "code",
   "execution_count": 45,
   "metadata": {},
   "outputs": [
    {
     "name": "stdout",
     "output_type": "stream",
     "text": [
      "Length of sentences 100:\n",
      "Length of StopWords 179:\n"
     ]
    }
   ],
   "source": [
    "#Regex Magic\n",
    "text = re.sub(r'\\[[0-9]*\\]', ' ',text)\n",
    "text = re.sub(r'\\s+', ' ', text)\n",
    "clean_text = text.lower()\n",
    "clean_text = re.sub(r'\\W',' ',clean_text)\n",
    "clean_text = re.sub(r'\\d',' ',clean_text)\n",
    "clean_text = re.sub(r'\\s+',' ',clean_text)\n",
    "\n",
    "#Tokenizing\n",
    "sentences = nltk.sent_tokenize(text)\n",
    "\n",
    "#Stopwords\n",
    "stopwords = nltk.corpus.stopwords.words('english')\n",
    "\n",
    "print(\"Length of sentences {}:\".format(len(sentences)))\n",
    "print(\"Length of StopWords {}:\".format(len(stopwords)))"
   ]
  },
  {
   "cell_type": "markdown",
   "metadata": {},
   "source": [
    "# Building The Histogram"
   ]
  },
  {
   "cell_type": "code",
   "execution_count": 42,
   "metadata": {},
   "outputs": [],
   "source": [
    "#Basic Histogram\n",
    "word2count = {}\n",
    "for word in nltk.word_tokenize(clean_text):\n",
    "    if word not in stopwords:\n",
    "        if word not in word2count.keys():\n",
    "            word2count[word] = 1\n",
    "        else:\n",
    "            word2count[word] += 1\n",
    "\n",
    "\n",
    "#Weighted Histogram\n",
    "for key in word2count.keys():\n",
    "    word2count[key] = word2count[key] / max(word2count.values())"
   ]
  },
  {
   "cell_type": "markdown",
   "metadata": {},
   "source": [
    "# Product sentence scores  "
   ]
  },
  {
   "cell_type": "code",
   "execution_count": 55,
   "metadata": {},
   "outputs": [
    {
     "name": "stdout",
     "output_type": "stream",
     "text": [
      "---------------------------------------------------------\n",
      "Filming did not begin until July 2018, in Jamshedpur, with first-time director Mukesh Chhabra guiding lead actor Sushant Singh Rajput and lead actress Sanjana Sanghi (in her film debut).\n",
      "\n",
      "Lidewij resigns as Van Houten's assistant and takes Hazel and Augustus to go to the Anne Frank House, where Augustus and Hazel share their first kiss.\n",
      "\n",
      "Principal photography took place between August and October of 2013, with Pittsburgh, Pennsylvania doubling for the novel's setting of Indianapolis, and included some location shooting in Amsterdam.\n",
      "\n",
      "In August 2014, India's Fox Star Studios announced it would adapt the novel into an Indian Hindi-language film, with the working title of Kizie Aur Manny.\n",
      "\n",
      "A week later, Augustus reveals to Hazel that he has tracked down Van Houten's assistant, Lidewij, and, through her, has managed to start an e-mail correspondence with Van Houten.\n",
      "\n",
      "The Fault in Our Stars debuted at #1 on The New York Times Best Seller list for Children's Chapter Books and remained in that spot for seven consecutive weeks.\n",
      "\n",
      "Bestselling author of The Book Thief, Markus Zusak, describes it as \"a novel of life and death and the people caught in between\" and \"John Green at his best\".\n",
      "\n",
      "It was #1 on The Wall Street Journal bestseller list, #1 on the Indiebound bestseller list, and #9 on The Bookseller bestseller list.\n",
      "\n",
      "The Fault in Our Stars received a starred review from Kirkus Reviews, who described it as \"a smartly crafted intellectual explosion of a romance.\"\n",
      "\n",
      "The film was released on June 6, 2014, in the United States, receiving positive reviews and grossing over $307 million worldwide against its budget of $12 million.\n",
      "\n",
      "---------------------------------------------------------\n"
     ]
    }
   ],
   "source": [
    "#Creating the dictionary as the sentence scores\n",
    "sent2score = {}\n",
    "sent_limit = 30\n",
    "no_of_sent = 10\n",
    "\n",
    "for sentence in sentences:\n",
    "    for word in nltk.word_tokenize(sentence.lower()):\n",
    "        if word in word2count.keys():\n",
    "            if len(sentence.split(' ')) < sent_limit:\n",
    "                if sentence not in sent2score.keys():\n",
    "                    sent2score[sentence] = word2count[word]\n",
    "                else:\n",
    "                    sent2score[sentence] += word2count[word]\n",
    "                    \n",
    "# Gettings best N- lines             \n",
    "best_sentences = heapq.nlargest(no_of_sent, \n",
    "                                sent2score, \n",
    "                                key=sent2score.get)\n",
    "\n",
    "print('---------------------------------------------------------')\n",
    "for sentence in best_sentences:\n",
    "    print(sentence)\n",
    "    print()\n",
    "print('---------------------------------------------------------')"
   ]
  },
  {
   "cell_type": "code",
   "execution_count": null,
   "metadata": {},
   "outputs": [],
   "source": []
  }
 ],
 "metadata": {
  "kernelspec": {
   "display_name": "Python 3",
   "language": "python",
   "name": "python3"
  },
  "language_info": {
   "codemirror_mode": {
    "name": "ipython",
    "version": 3
   },
   "file_extension": ".py",
   "mimetype": "text/x-python",
   "name": "python",
   "nbconvert_exporter": "python",
   "pygments_lexer": "ipython3",
   "version": "3.6.5"
  }
 },
 "nbformat": 4,
 "nbformat_minor": 2
}
