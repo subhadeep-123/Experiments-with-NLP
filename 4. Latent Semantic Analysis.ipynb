{
 "cells": [
  {
   "cell_type": "markdown",
   "metadata": {},
   "source": [
    "# Latent Semantic Analysis"
   ]
  },
  {
   "cell_type": "markdown",
   "metadata": {},
   "source": [
    "# 1.1"
   ]
  },
  {
   "cell_type": "code",
   "execution_count": 25,
   "metadata": {},
   "outputs": [],
   "source": [
    "# Importing the Libraries\n",
    "\n",
    "import nltk\n",
    "from sklearn.feature_extraction.text import TfidfVectorizer\n",
    "from sklearn.decomposition import TruncatedSVD"
   ]
  },
  {
   "cell_type": "code",
   "execution_count": 2,
   "metadata": {},
   "outputs": [],
   "source": [
    "# Sample Data\n",
    "dataset = [\"The amount of polution is increasing day by day\",\n",
    "           \"The concert was just great\",\n",
    "           \"I love to see Gordon Ramsay cook\",\n",
    "           \"Google is introducing a new technology\",\n",
    "           \"AI Robots are examples of great technology present today\",\n",
    "           \"All of us were singing in the concert\",\n",
    "           \"We have launch campaigns to stop pollution and global warming\"]\n"
   ]
  },
  {
   "cell_type": "code",
   "execution_count": 3,
   "metadata": {},
   "outputs": [],
   "source": [
    "dataset = [line.lower() for line in dataset]"
   ]
  },
  {
   "cell_type": "code",
   "execution_count": 4,
   "metadata": {},
   "outputs": [],
   "source": [
    "vectorizer = TfidfVectorizer()\n",
    "X = vectorizer.fit_transform(dataset)"
   ]
  },
  {
   "cell_type": "code",
   "execution_count": 5,
   "metadata": {},
   "outputs": [
    {
     "name": "stdout",
     "output_type": "stream",
     "text": [
      "  (0, 34)\t0.22786438777524437\n",
      "  (0, 2)\t0.3211483974289088\n",
      "  (0, 24)\t0.22786438777524437\n",
      "  (0, 26)\t0.3211483974289088\n",
      "  (0, 19)\t0.2665807498646048\n",
      "  (0, 17)\t0.3211483974289088\n",
      "  (0, 9)\t0.6422967948578177\n",
      "  (0, 5)\t0.3211483974289088\n"
     ]
    }
   ],
   "source": [
    "# TF - IDF model form\n",
    "print(X[0])"
   ]
  },
  {
   "cell_type": "code",
   "execution_count": 7,
   "metadata": {},
   "outputs": [
    {
     "data": {
      "text/plain": [
       "(7, 42)"
      ]
     },
     "execution_count": 7,
     "metadata": {},
     "output_type": "execute_result"
    }
   ],
   "source": [
    "X.shape"
   ]
  },
  {
   "cell_type": "code",
   "execution_count": 10,
   "metadata": {},
   "outputs": [
    {
     "data": {
      "text/plain": [
       "TruncatedSVD(algorithm='randomized', n_components=4, n_iter=100,\n",
       "       random_state=None, tol=0.0)"
      ]
     },
     "execution_count": 10,
     "metadata": {},
     "output_type": "execute_result"
    }
   ],
   "source": [
    "# Decomposing the dataset into Singular values\n",
    "\n",
    "lsa = TruncatedSVD(n_components = 4, \n",
    "                   n_iter = 100)\n",
    "lsa.fit(X)"
   ]
  },
  {
   "cell_type": "code",
   "execution_count": 12,
   "metadata": {
    "scrolled": true
   },
   "outputs": [
    {
     "data": {
      "text/plain": [
       "array([ 1.24191973e-01,  1.78240252e-01,  1.14460798e-01, -1.19745007e-16,\n",
       "        1.24191973e-01,  1.14460798e-01, -1.19745007e-16,  3.44988739e-01,\n",
       "       -1.62865561e-16,  2.28921595e-01,  1.24191973e-01, -1.19745007e-16,\n",
       "        9.72770950e-02, -1.62865561e-16,  3.00124026e-01, -1.19745007e-16,\n",
       "        1.78240252e-01,  1.14460798e-01,  9.72770950e-02,  1.75760635e-01,\n",
       "        2.37365829e-01, -1.19745007e-16, -1.62865561e-16,  9.72770950e-02,\n",
       "        2.95798061e-01, -1.19745007e-16,  1.14460798e-01,  1.24191973e-01,\n",
       "       -1.62865561e-16,  1.24191973e-01, -1.62865561e-16,  1.78240252e-01,\n",
       "       -1.19745007e-16,  1.83838346e-01,  3.76098295e-01, -2.34591042e-16,\n",
       "        1.24191973e-01,  1.78240252e-01, -1.19745007e-16,  2.37365829e-01,\n",
       "       -1.19745007e-16,  1.78240252e-01])"
      ]
     },
     "execution_count": 12,
     "metadata": {},
     "output_type": "execute_result"
    }
   ],
   "source": [
    "#returning the first row of V.T matrix\n",
    "row1 = lsa.components_[0]\n",
    "row1"
   ]
  },
  {
   "cell_type": "code",
   "execution_count": 21,
   "metadata": {},
   "outputs": [
    {
     "name": "stdout",
     "output_type": "stream",
     "text": [
      "\n",
      "Concept 0 :\n",
      "('the', 0.376098295292637)\n",
      "('concert', 0.3449887392330656)\n",
      "('great', 0.30012402589487386)\n",
      "('of', 0.29579806095266675)\n",
      "('just', 0.23736582929791195)\n",
      "('was', 0.23736582929791195)\n",
      "('day', 0.22892159541504475)\n",
      "('technology', 0.18383834567413462)\n",
      "('all', 0.17824025175628946)\n",
      "('in', 0.17824025175628946)\n",
      "\n",
      "Concept 1 :\n",
      "('to', 0.4157884439670068)\n",
      "('cook', 0.28359165793510677)\n",
      "('gordon', 0.28359165793510677)\n",
      "('love', 0.28359165793510677)\n",
      "('ramsay', 0.28359165793510677)\n",
      "('see', 0.28359165793510677)\n",
      "('and', 0.2173064471129251)\n",
      "('campaigns', 0.2173064471129251)\n",
      "('global', 0.2173064471129251)\n",
      "('have', 0.2173064471129251)\n",
      "\n",
      "Concept 2 :\n",
      "('technology', 0.37791806767143865)\n",
      "('is', 0.34196143806319995)\n",
      "('google', 0.3413969441909749)\n",
      "('introducing', 0.3413969441909749)\n",
      "('new', 0.3413969441909749)\n",
      "('day', 0.14112432680995018)\n",
      "('are', 0.11387892195372844)\n",
      "('examples', 0.11387892195372844)\n",
      "('present', 0.11387892195372844)\n",
      "('robots', 0.11387892195372844)\n",
      "\n",
      "Concept 3 :\n",
      "('day', 0.4654267679041113)\n",
      "('amount', 0.23271338395205582)\n",
      "('by', 0.23271338395205565)\n",
      "('increasing', 0.23271338395205565)\n",
      "('polution', 0.23271338395205565)\n",
      "('is', 0.21264455202449803)\n",
      "('the', 0.12724213180694488)\n",
      "('all', 0.05644664752726603)\n",
      "('in', 0.056446647527266004)\n",
      "('singing', 0.056446647527266004)\n"
     ]
    }
   ],
   "source": [
    "terms = vectorizer.get_feature_names()\n",
    "for i,comp in enumerate(lsa.components_):\n",
    "    componentTerms = zip(terms, comp)\n",
    "    sortedTerms = sorted(componentTerms,\n",
    "                         key=lambda x:x[1],\n",
    "                         reverse=True)\n",
    "    sortedTerms = sortedTerms[:10]\n",
    "    print('\\nConcept',i,':')\n",
    "    for term in sortedTerms:\n",
    "        print(term)"
   ]
  },
  {
   "cell_type": "markdown",
   "metadata": {},
   "source": [
    "# 1.2"
   ]
  },
  {
   "cell_type": "code",
   "execution_count": 20,
   "metadata": {},
   "outputs": [],
   "source": [
    "concept_words = {}"
   ]
  },
  {
   "cell_type": "code",
   "execution_count": 22,
   "metadata": {},
   "outputs": [],
   "source": [
    "terms = vectorizer.get_feature_names()\n",
    "\n",
    "for i,comp in enumerate(lsa.components_):\n",
    "    \n",
    "    componentTerms = zip(terms, comp)\n",
    "    \n",
    "    sortedTerms = sorted(componentTerms,\n",
    "                         key=lambda x:x[1],\n",
    "                         reverse=True)\n",
    "    \n",
    "    sortedTerms = sortedTerms[:10]\n",
    "    concept_words[\"Concept\"+str(i)] = sortedTerms"
   ]
  },
  {
   "cell_type": "code",
   "execution_count": 23,
   "metadata": {},
   "outputs": [
    {
     "data": {
      "text/plain": [
       "{'Concept0': [('the', 0.376098295292637),\n",
       "  ('concert', 0.3449887392330656),\n",
       "  ('great', 0.30012402589487386),\n",
       "  ('of', 0.29579806095266675),\n",
       "  ('just', 0.23736582929791195),\n",
       "  ('was', 0.23736582929791195),\n",
       "  ('day', 0.22892159541504475),\n",
       "  ('technology', 0.18383834567413462),\n",
       "  ('all', 0.17824025175628946),\n",
       "  ('in', 0.17824025175628946)],\n",
       " 'Concept1': [('to', 0.4157884439670068),\n",
       "  ('cook', 0.28359165793510677),\n",
       "  ('gordon', 0.28359165793510677),\n",
       "  ('love', 0.28359165793510677),\n",
       "  ('ramsay', 0.28359165793510677),\n",
       "  ('see', 0.28359165793510677),\n",
       "  ('and', 0.2173064471129251),\n",
       "  ('campaigns', 0.2173064471129251),\n",
       "  ('global', 0.2173064471129251),\n",
       "  ('have', 0.2173064471129251)],\n",
       " 'Concept2': [('technology', 0.37791806767143865),\n",
       "  ('is', 0.34196143806319995),\n",
       "  ('google', 0.3413969441909749),\n",
       "  ('introducing', 0.3413969441909749),\n",
       "  ('new', 0.3413969441909749),\n",
       "  ('day', 0.14112432680995018),\n",
       "  ('are', 0.11387892195372844),\n",
       "  ('examples', 0.11387892195372844),\n",
       "  ('present', 0.11387892195372844),\n",
       "  ('robots', 0.11387892195372844)],\n",
       " 'Concept3': [('day', 0.4654267679041113),\n",
       "  ('amount', 0.23271338395205582),\n",
       "  ('by', 0.23271338395205565),\n",
       "  ('increasing', 0.23271338395205565),\n",
       "  ('polution', 0.23271338395205565),\n",
       "  ('is', 0.21264455202449803),\n",
       "  ('the', 0.12724213180694488),\n",
       "  ('all', 0.05644664752726603),\n",
       "  ('in', 0.056446647527266004),\n",
       "  ('singing', 0.056446647527266004)]}"
      ]
     },
     "execution_count": 23,
     "metadata": {},
     "output_type": "execute_result"
    }
   ],
   "source": [
    "concept_words"
   ]
  },
  {
   "cell_type": "code",
   "execution_count": 26,
   "metadata": {},
   "outputs": [
    {
     "name": "stdout",
     "output_type": "stream",
     "text": [
      "\n",
      "Concept0:\n",
      "1.1297395470753933\n",
      "1.4959427190164003\n",
      "0\n",
      "0.18383834567413462\n",
      "0.7797604325216752\n",
      "1.3733655989909481\n",
      "0\n",
      "\n",
      "Concept1:\n",
      "0\n",
      "0\n",
      "1.8337467336425406\n",
      "0\n",
      "0\n",
      "0\n",
      "1.2850142324187073\n",
      "\n",
      "Concept2:\n",
      "0.6242100916831004\n",
      "0\n",
      "0\n",
      "1.7440703383075633\n",
      "0.8334337554863523\n",
      "0\n",
      "0\n",
      "\n",
      "Concept3:\n",
      "2.201593755447888\n",
      "0.12724213180694488\n",
      "0\n",
      "0.21264455202449803\n",
      "0\n",
      "0.29658207438874296\n",
      "0\n"
     ]
    }
   ],
   "source": [
    "# Sentence Concepts\n",
    "for key in concept_words.keys():\n",
    "    sentence_scores = []\n",
    "    for sentence in dataset:\n",
    "        words = nltk.word_tokenize(sentence)\n",
    "        score = 0\n",
    "        for word in words:\n",
    "            for word_with_score in concept_words[key]:\n",
    "                if word == word_with_score[0]:\n",
    "                    score += word_with_score[1]\n",
    "        sentence_scores.append(score)\n",
    "    print(\"\\n\"+key+\":\")\n",
    "    for sentence_score in sentence_scores:\n",
    "        print(sentence_score)"
   ]
  },
  {
   "cell_type": "code",
   "execution_count": null,
   "metadata": {},
   "outputs": [],
   "source": []
  }
 ],
 "metadata": {
  "kernelspec": {
   "display_name": "Python 3",
   "language": "python",
   "name": "python3"
  },
  "language_info": {
   "codemirror_mode": {
    "name": "ipython",
    "version": 3
   },
   "file_extension": ".py",
   "mimetype": "text/x-python",
   "name": "python",
   "nbconvert_exporter": "python",
   "pygments_lexer": "ipython3",
   "version": "3.6.5"
  }
 },
 "nbformat": 4,
 "nbformat_minor": 2
}
